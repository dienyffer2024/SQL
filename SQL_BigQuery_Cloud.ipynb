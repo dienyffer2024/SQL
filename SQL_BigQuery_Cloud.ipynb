{
  "nbformat": 4,
  "nbformat_minor": 0,
  "metadata": {
    "colab": {
      "provenance": [],
      "authorship_tag": "ABX9TyMalYR7ivzL7IoQKVUOcR2D",
      "include_colab_link": true
    },
    "kernelspec": {
      "name": "python3",
      "display_name": "Python 3"
    },
    "language_info": {
      "name": "python"
    }
  },
  "cells": [
    {
      "cell_type": "markdown",
      "metadata": {
        "id": "view-in-github",
        "colab_type": "text"
      },
      "source": [
        "<a href=\"https://colab.research.google.com/github/dienyffer2024/SQL/blob/main/SQL_BigQuery_Cloud.ipynb\" target=\"_parent\"><img src=\"https://colab.research.google.com/assets/colab-badge.svg\" alt=\"Open In Colab\"/></a>"
      ]
    },
    {
      "cell_type": "markdown",
      "source": [
        "# Criação de tabelas no Banco de Dados (Cloud)"
      ],
      "metadata": {
        "id": "hVb907jjN5ro"
      }
    },
    {
      "cell_type": "code",
      "execution_count": null,
      "metadata": {
        "id": "CRbn5h3i7LdH"
      },
      "outputs": [],
      "source": [
        "CREATE TABLE DEPARTAMENTO (\n",
        "DEPARTAMENTO_ID INT PRIMARY KEY,\n",
        "NOME VARCHAR(100)\n",
        ");\n",
        "\n",
        "CREATE TABLE GERENTE (\n",
        "GERENTE_ID INT PRIMARY KEY,\n",
        "NOME VARCHAR(100)\n",
        ");\n",
        "\n",
        "CREATE TABLE EMPREGADO (\n",
        "EMPREGADO_ID INT PRIMARY KEY,\n",
        "NOME VARCHAR(100),\n",
        "DEPARTAMENTO_ID INT,\n",
        "SALARIO DECIMAL(10, 2),\n",
        "DATA_ADMISSAO DATE,\n",
        "GERENTE_ID INT,\n",
        "CARGO VARCHAR(100),\n",
        "FOREIGN KEY (DEPARTAMENTO_ID) REFERENCES\n",
        "DEPARTAMENTO(DEPARTAMENTO_ID),\n",
        "FOREIGN KEY (GERENTE_ID) REFERENCES GERENTE(GERENTE_ID)\n",
        ");"
      ]
    },
    {
      "cell_type": "markdown",
      "source": [
        "# Inserindo dados nas tabelas criadas"
      ],
      "metadata": {
        "id": "DJ8Fbr2LODkR"
      }
    },
    {
      "cell_type": "markdown",
      "source": [
        "* Dados fictícios extraídos do *Mockaroo*"
      ],
      "metadata": {
        "id": "D4eucVGkOQmF"
      }
    },
    {
      "cell_type": "code",
      "source": [
        "from typing import ValuesView\n",
        "\n",
        "INSERT INTO DEPARTAMENTO (DEPARTAMENTO_ID, NOME)\n",
        "VALUES\n",
        "(1, 'Vendas'),\n",
        "(2, 'Marketing'),\n",
        "(3, 'TI');\n",
        "(4, 'Financeiro'),\n",
        "(5, 'RH'),\n",
        "(6, 'Logística'),\n",
        "(7, 'Compras'),\n",
        "(8, 'Produção'),\n",
        "(9, 'Qualidade'),\n",
        "(10, 'Faturamento')\n",
        "\n",
        "INSERT INTO GERENTE (GERENTE_ID, NOME)\n",
        "VALUES\n",
        "(1, 'João Silva'),\n",
        "(2, 'Maria Santos'),\n",
        "(3, 'Pedro Oliveira'),\n",
        "(4, 'Ana Souza'),\n",
        "(5, 'Carlos Pereira')\n",
        "\n",
        "insert into EMPREGADO (EMPREGADO_ID, NOME, DEPARTAMENTO_ID, SALARIO, DATA_ADMISSAO, GERENTE_ID, CARGO) values (45, 'Reynard', 8, 2201.89, '2024-06-22', 4, 'VP Sales');\n",
        "insert into EMPREGADO (EMPREGADO_ID, NOME, DEPARTAMENTO_ID, SALARIO, DATA_ADMISSAO, GERENTE_ID, CARGO) values (6, 'Christiano', 8, 7985.99, '2023-09-08', 2, 'Financial Advisor');\n",
        "insert into EMPREGADO (EMPREGADO_ID, NOME, DEPARTAMENTO_ID, SALARIO, DATA_ADMISSAO, GERENTE_ID, CARGO) values (37, 'Rori', 3, 5901.98, '2023-12-30', 4, 'Community Outreach Specialist');\n",
        "insert into EMPREGADO (EMPREGADO_ID, NOME, DEPARTAMENTO_ID, SALARIO, DATA_ADMISSAO, GERENTE_ID, CARGO) values (100, 'Kelvin', 1, 2388.72, '2024-07-04', 5, 'Actuary');\n",
        "insert into EMPREGADO (EMPREGADO_ID, NOME, DEPARTAMENTO_ID, SALARIO, DATA_ADMISSAO, GERENTE_ID, CARGO) values (13, 'Leigha', 5, 4929.17, '2024-06-18', 3, 'Associate Professor');\n",
        "insert into EMPREGADO (EMPREGADO_ID, NOME, DEPARTAMENTO_ID, SALARIO, DATA_ADMISSAO, GERENTE_ID, CARGO) values (19, 'Ryun', 2, 9199.85, '2024-08-27', 2, 'Tax Accountant');\n",
        "insert into EMPREGADO (EMPREGADO_ID, NOME, DEPARTAMENTO_ID, SALARIO, DATA_ADMISSAO, GERENTE_ID, CARGO) values (20, 'Osgood', 6, 2318.86, '2024-04-28', 2, 'Staff Accountant II');\n",
        "insert into EMPREGADO (EMPREGADO_ID, NOME, DEPARTAMENTO_ID, SALARIO, DATA_ADMISSAO, GERENTE_ID, CARGO) values (60, 'Harry', 3, 6055.38, '2024-08-23', 5, 'Web Developer IV');\n",
        "insert into EMPREGADO (EMPREGADO_ID, NOME, DEPARTAMENTO_ID, SALARIO, DATA_ADMISSAO, GERENTE_ID, CARGO) values (61, 'Constantine', 4, 2614.22, '2023-09-12', 5, 'Account Representative IV');\n",
        "insert into EMPREGADO (EMPREGADO_ID, NOME, DEPARTAMENTO_ID, SALARIO, DATA_ADMISSAO, GERENTE_ID, CARGO) values (76, 'De', 5, 8741.22, '2024-07-30', 4, 'Data Coordinator');\n",
        "insert into EMPREGADO (EMPREGADO_ID, NOME, DEPARTAMENTO_ID, SALARIO, DATA_ADMISSAO, GERENTE_ID, CARGO) values (15, 'Chelsae', 3, 2945.48, '2024-02-27', 4, 'Marketing Manager');\n",
        "insert into EMPREGADO (EMPREGADO_ID, NOME, DEPARTAMENTO_ID, SALARIO, DATA_ADMISSAO, GERENTE_ID, CARGO) values (59, 'Yelena', 4, 4912.74, '2024-04-29', 5, 'Senior Developer');\n",
        "insert into EMPREGADO (EMPREGADO_ID, NOME, DEPARTAMENTO_ID, SALARIO, DATA_ADMISSAO, GERENTE_ID, CARGO) values (70, 'Di', 2, 2538.27, '2024-06-02', 4, 'Assistant Media Planner');\n",
        "insert into EMPREGADO (EMPREGADO_ID, NOME, DEPARTAMENTO_ID, SALARIO, DATA_ADMISSAO, GERENTE_ID, CARGO) values (92, 'Livvie', 2, 5064.94, '2024-08-19', 5, 'Database Administrator I');\n",
        "\n",
        "insert into EMPREGADO (EMPREGADO_ID, NOME, DEPARTAMENTO_ID, SALARIO, DATA_ADMISSAO, GERENTE_ID, CARGO) values (2, 'Randy', 4, 8074.32, '2023-10-04', 3, 'Safety Technician III');\n",
        "insert into EMPREGADO (EMPREGADO_ID, NOME, DEPARTAMENTO_ID, SALARIO, DATA_ADMISSAO, GERENTE_ID, CARGO) values (58, 'Alonzo', 6, 2276.29, '2024-07-01', 4, 'Physical Therapy Assistant');\n",
        "insert into EMPREGADO (EMPREGADO_ID, NOME, DEPARTAMENTO_ID, SALARIO, DATA_ADMISSAO, GERENTE_ID, CARGO) values (96, 'Ambros', 2, 9926.9, '2024-06-07', 1, 'Geological Engineer');\n",
        "insert into EMPREGADO (EMPREGADO_ID, NOME, DEPARTAMENTO_ID, SALARIO, DATA_ADMISSAO, GERENTE_ID, CARGO) values (81, 'Shepperd', 3, 3852.45, '2024-06-11', 4, 'Technical Writer');\n",
        "insert into EMPREGADO (EMPREGADO_ID, NOME, DEPARTAMENTO_ID, SALARIO, DATA_ADMISSAO, GERENTE_ID, CARGO) values (12, 'Sergio', 9, 6786.75, '2023-10-26', 2, 'Quality Engineer');\n",
        "insert into EMPREGADO (EMPREGADO_ID, NOME, DEPARTAMENTO_ID, SALARIO, DATA_ADMISSAO, GERENTE_ID, CARGO) values (1, 'Orv', 7, 8529.0, '2023-12-28', 1, 'Marketing Assistant');\n",
        "insert into EMPREGADO (EMPREGADO_ID, NOME, DEPARTAMENTO_ID, SALARIO, DATA_ADMISSAO, GERENTE_ID, CARGO) values (44, 'Merwyn', 3, 2513.51, '2023-12-05', 2, 'Research Associate');\n",
        "insert into EMPREGADO (EMPREGADO_ID, NOME, DEPARTAMENTO_ID, SALARIO, DATA_ADMISSAO, GERENTE_ID, CARGO) values (38, 'Letisha', 10, 8000.34, '2024-04-23', 1, 'Administrative Officer');\n",
        "insert into EMPREGADO (EMPREGADO_ID, NOME, DEPARTAMENTO_ID, SALARIO, DATA_ADMISSAO, GERENTE_ID, CARGO) values (82, 'Rosalinde', 4, 9118.09, '2024-08-07', 1, 'Research Associate');\n",
        "insert into EMPREGADO (EMPREGADO_ID, NOME, DEPARTAMENTO_ID, SALARIO, DATA_ADMISSAO, GERENTE_ID, CARGO) values (91, 'Katya', 4, 3201.24, '2023-10-12', 5, 'Senior Developer');\n",
        "insert into EMPREGADO (EMPREGADO_ID, NOME, DEPARTAMENTO_ID, SALARIO, DATA_ADMISSAO, GERENTE_ID, CARGO) values (79, 'Osmund', 4, 5953.52, '2023-11-09', 1, 'Data Coordinator');\n",
        "insert into EMPREGADO (EMPREGADO_ID, NOME, DEPARTAMENTO_ID, SALARIO, DATA_ADMISSAO, GERENTE_ID, CARGO) values (28, 'Ceil', 9, 8690.24, '2024-04-20', 2, 'Health Coach IV');\n",
        "insert into EMPREGADO (EMPREGADO_ID, NOME, DEPARTAMENTO_ID, SALARIO, DATA_ADMISSAO, GERENTE_ID, CARGO) values (11, 'Leonardo', 9, 8868.69, '2024-07-19', 1, 'Associate Professor');\n",
        "insert into EMPREGADO (EMPREGADO_ID, NOME, DEPARTAMENTO_ID, SALARIO, DATA_ADMISSAO, GERENTE_ID, CARGO) values (47, 'Waverly', 5, 5308.67, '2023-12-22', 1, 'Geologist III');\n",
        "insert into EMPREGADO (EMPREGADO_ID, NOME, DEPARTAMENTO_ID, SALARIO, DATA_ADMISSAO, GERENTE_ID, CARGO) values (30, 'Janek', 9, 5175.38, '2024-09-01', 2, 'Project Manager');\n",
        "insert into EMPREGADO (EMPREGADO_ID, NOME, DEPARTAMENTO_ID, SALARIO, DATA_ADMISSAO, GERENTE_ID, CARGO) values (75, 'Hort', 1, 7712.16, '2024-08-01', 4, 'Nurse');\n",
        "insert into EMPREGADO (EMPREGADO_ID, NOME, DEPARTAMENTO_ID, SALARIO, DATA_ADMISSAO, GERENTE_ID, CARGO) values (69, 'Dael', 3, 9238.89, '2024-02-29', 4, 'Analyst Programmer');\n",
        "insert into EMPREGADO (EMPREGADO_ID, NOME, DEPARTAMENTO_ID, SALARIO, DATA_ADMISSAO, GERENTE_ID, CARGO) values (9, 'Hestia', 9, 5327.45, '2024-02-17', 2, 'Marketing Manager');\n",
        "insert into EMPREGADO (EMPREGADO_ID, NOME, DEPARTAMENTO_ID, SALARIO, DATA_ADMISSAO, GERENTE_ID, CARGO) values (3, 'Judah', 2, 7655.57, '2024-05-06', 2, 'Professor');\n",
        "insert into EMPREGADO (EMPREGADO_ID, NOME, DEPARTAMENTO_ID, SALARIO, DATA_ADMISSAO, GERENTE_ID, CARGO) values (78, 'Bing', 2, 4044.91, '2024-06-17', 1, 'Quality Control Specialist');\n",
        "insert into EMPREGADO (EMPREGADO_ID, NOME, DEPARTAMENTO_ID, SALARIO, DATA_ADMISSAO, GERENTE_ID, CARGO) values (97, 'Hailee', 7, 8057.28, '2023-11-07', 2, 'Professor');\n",
        "insert into EMPREGADO (EMPREGADO_ID, NOME, DEPARTAMENTO_ID, SALARIO, DATA_ADMISSAO, GERENTE_ID, CARGO) values (72, 'Dorolice', 7, 8741.4, '2023-09-23', 5, 'Tax Accountant');\n",
        "insert into EMPREGADO (EMPREGADO_ID, NOME, DEPARTAMENTO_ID, SALARIO, DATA_ADMISSAO, GERENTE_ID, CARGO) values (62, 'Lydia', 3, 2218.17, '2023-11-29', 3, 'Civil Engineer');\n",
        "insert into EMPREGADO (EMPREGADO_ID, NOME, DEPARTAMENTO_ID, SALARIO, DATA_ADMISSAO, GERENTE_ID, CARGO) values (43, 'Randolph', 10, 6972.41, '2024-04-08', 3, 'Recruiting Manager');\n",
        "insert into EMPREGADO (EMPREGADO_ID, NOME, DEPARTAMENTO_ID, SALARIO, DATA_ADMISSAO, GERENTE_ID, CARGO) values (87, 'Saundra', 5, 4335.99, '2024-04-01', 4, 'Assistant Media Planner');\n",
        "insert into EMPREGADO (EMPREGADO_ID, NOME, DEPARTAMENTO_ID, SALARIO, DATA_ADMISSAO, GERENTE_ID, CARGO) values (4, 'Blayne', 8, 2329.2, '2024-02-05', 2, 'Teacher');\n",
        "insert into EMPREGADO (EMPREGADO_ID, NOME, DEPARTAMENTO_ID, SALARIO, DATA_ADMISSAO, GERENTE_ID, CARGO) values (5, 'Merrick', 1, 3709.73, '2023-10-10', 3, 'Social Worker');\n",
        "insert into EMPREGADO (EMPREGADO_ID, NOME, DEPARTAMENTO_ID, SALARIO, DATA_ADMISSAO, GERENTE_ID, CARGO) values (7, 'Giulia', 3, 7694.93, '2024-08-14', 1, 'Business Systems Development Analyst');\n",
        "insert into EMPREGADO (EMPREGADO_ID, NOME, DEPARTAMENTO_ID, SALARIO, DATA_ADMISSAO, GERENTE_ID, CARGO) values (8, 'Joan', 9, 5563.1, '2024-08-14', 2, 'Financial Advisor');\n",
        "insert into EMPREGADO (EMPREGADO_ID, NOME, DEPARTAMENTO_ID, SALARIO, DATA_ADMISSAO, GERENTE_ID, CARGO) values (10, 'Farlie', 6, 3024.36, '2024-07-14', 1, 'VP Sales');\n",
        "insert into EMPREGADO (EMPREGADO_ID, NOME, DEPARTAMENTO_ID, SALARIO, DATA_ADMISSAO, GERENTE_ID, CARGO) values (14, 'Monika', 7, 4386.2, '2024-05-09', 5, 'Research Assistant IV');\n",
        "insert into EMPREGADO (EMPREGADO_ID, NOME, DEPARTAMENTO_ID, SALARIO, DATA_ADMISSAO, GERENTE_ID, CARGO) values (16, 'Mirelle', 6, 3210.32, '2023-11-09', 5, 'Assistant Professor');\n",
        "insert into EMPREGADO (EMPREGADO_ID, NOME, DEPARTAMENTO_ID, SALARIO, DATA_ADMISSAO, GERENTE_ID, CARGO) values (17, 'Nessa', 2, 2215.68, '2023-09-07', 1, 'Computer Systems Analyst III');\n",
        "insert into EMPREGADO (EMPREGADO_ID, NOME, DEPARTAMENTO_ID, SALARIO, DATA_ADMISSAO, GERENTE_ID, CARGO) values (18, 'Berne', 8, 7861.43, '2023-10-31', 4, 'Chief Design Engineer');\n",
        "insert into EMPREGADO (EMPREGADO_ID, NOME, DEPARTAMENTO_ID, SALARIO, DATA_ADMISSAO, GERENTE_ID, CARGO) values (21, 'Alica', 8, 7032.56, '2024-08-11', 3, 'Teacher');\n",
        "insert into EMPREGADO (EMPREGADO_ID, NOME, DEPARTAMENTO_ID, SALARIO, DATA_ADMISSAO, GERENTE_ID, CARGO) values (22, 'Kimberlee', 10, 2313.01, '2023-12-27', 5, 'Professor');\n",
        "insert into EMPREGADO (EMPREGADO_ID, NOME, DEPARTAMENTO_ID, SALARIO, DATA_ADMISSAO, GERENTE_ID, CARGO) values (23, 'Phil', 8, 5320.0, '2023-09-22', 5, 'Recruiter');\n",
        "insert into EMPREGADO (EMPREGADO_ID, NOME, DEPARTAMENTO_ID, SALARIO, DATA_ADMISSAO, GERENTE_ID, CARGO) values (24, 'Zedekiah', 9, 3282.32, '2024-06-27', 1, 'Electrical Engineer');\n",
        "insert into EMPREGADO (EMPREGADO_ID, NOME, DEPARTAMENTO_ID, SALARIO, DATA_ADMISSAO, GERENTE_ID, CARGO) values (25, 'Myranda', 4, 3004.1, '2024-08-29', 1, 'Programmer Analyst III');\n",
        "insert into EMPREGADO (EMPREGADO_ID, NOME, DEPARTAMENTO_ID, SALARIO, DATA_ADMISSAO, GERENTE_ID, CARGO) values (26, 'Pat', 10, 2743.22, '2024-04-17', 1, 'Software Test Engineer II');\n",
        "insert into EMPREGADO (EMPREGADO_ID, NOME, DEPARTAMENTO_ID, SALARIO, DATA_ADMISSAO, GERENTE_ID, CARGO) values (27, 'Aldric', 10, 3361.5, '2024-01-12', 2, 'Programmer IV');\n",
        "insert into EMPREGADO (EMPREGADO_ID, NOME, DEPARTAMENTO_ID, SALARIO, DATA_ADMISSAO, GERENTE_ID, CARGO) values (46, 'Haley', 5, 5925.15, '2023-12-16', 4, 'Pharmacist');\n",
        "\n",
        "insert into EMPREGADO (EMPREGADO_ID, NOME, DEPARTAMENTO_ID, SALARIO, DATA_ADMISSAO, GERENTE_ID, CARGO) values (29, 'Jeanine', 9, 6035.87, '2023-10-28', 2, 'Web Designer III');\n",
        "insert into EMPREGADO (EMPREGADO_ID, NOME, DEPARTAMENTO_ID, SALARIO, DATA_ADMISSAO, GERENTE_ID, CARGO) values (31, 'Reinald', 6, 2572.59, '2023-11-28', 1, 'Editor');\n",
        "insert into EMPREGADO (EMPREGADO_ID, NOME, DEPARTAMENTO_ID, SALARIO, DATA_ADMISSAO, GERENTE_ID, CARGO) values (32, 'Saudra', 8, 8441.2, '2023-11-14', 1, 'Senior Editor');\n",
        "insert into EMPREGADO (EMPREGADO_ID, NOME, DEPARTAMENTO_ID, SALARIO, DATA_ADMISSAO, GERENTE_ID, CARGO) values (33, 'Kiel', 5, 7546.6, '2023-10-11', 3, 'Legal Assistant');\n",
        "insert into EMPREGADO (EMPREGADO_ID, NOME, DEPARTAMENTO_ID, SALARIO, DATA_ADMISSAO, GERENTE_ID, CARGO) values (34, 'Yolanthe', 2, 8425.45, '2023-12-10', 4, 'Senior Sales Associate');\n",
        "insert into EMPREGADO (EMPREGADO_ID, NOME, DEPARTAMENTO_ID, SALARIO, DATA_ADMISSAO, GERENTE_ID, CARGO) values (35, 'Colet', 2, 4764.25, '2023-11-03', 2, 'Database Administrator II');\n",
        "insert into EMPREGADO (EMPREGADO_ID, NOME, DEPARTAMENTO_ID, SALARIO, DATA_ADMISSAO, GERENTE_ID, CARGO) values (36, 'Kirstin', 5, 5936.42, '2023-09-27', 2, 'Editor');\n",
        "insert into EMPREGADO (EMPREGADO_ID, NOME, DEPARTAMENTO_ID, SALARIO, DATA_ADMISSAO, GERENTE_ID, CARGO) values (39, 'Inglis', 5, 9672.66, '2023-12-23', 5, 'Business Systems Development Analyst');\n",
        "insert into EMPREGADO (EMPREGADO_ID, NOME, DEPARTAMENTO_ID, SALARIO, DATA_ADMISSAO, GERENTE_ID, CARGO) values (40, 'Randene', 10, 4892.25, '2024-01-17', 4, 'Administrative Officer');\n",
        "insert into EMPREGADO (EMPREGADO_ID, NOME, DEPARTAMENTO_ID, SALARIO, DATA_ADMISSAO, GERENTE_ID, CARGO) values (41, 'Monique', 3, 9938.8, '2024-06-09', 2, 'Tax Accountant');\n",
        "insert into EMPREGADO (EMPREGADO_ID, NOME, DEPARTAMENTO_ID, SALARIO, DATA_ADMISSAO, GERENTE_ID, CARGO) values (42, 'Jere', 10, 2528.75, '2023-11-12', 5, 'Civil Engineer');\n",
        "insert into EMPREGADO (EMPREGADO_ID, NOME, DEPARTAMENTO_ID, SALARIO, DATA_ADMISSAO, GERENTE_ID, CARGO) values (48, 'Lurette', 6, 9765.04, '2024-02-05', 4, 'Electrical Engineer');\n",
        "insert into EMPREGADO (EMPREGADO_ID, NOME, DEPARTAMENTO_ID, SALARIO, DATA_ADMISSAO, GERENTE_ID, CARGO) values (49, 'Alano', 6, 9765.89, '2024-02-21', 3, 'Nurse Practicioner');\n",
        "insert into EMPREGADO (EMPREGADO_ID, NOME, DEPARTAMENTO_ID, SALARIO, DATA_ADMISSAO, GERENTE_ID, CARGO) values (50, 'Averil', 7, 5008.88, '2024-02-16', 1, 'Research Assistant II');\n",
        "insert into EMPREGADO (EMPREGADO_ID, NOME, DEPARTAMENTO_ID, SALARIO, DATA_ADMISSAO, GERENTE_ID, CARGO) values (51, 'Shannah', 3, 7466.38, '2024-06-24', 2, 'Programmer Analyst I');\n",
        "\n",
        "insert into EMPREGADO (EMPREGADO_ID, NOME, DEPARTAMENTO_ID, SALARIO, DATA_ADMISSAO, GERENTE_ID, CARGO) values (52, 'Vivie', 4, 2519.03, '2024-07-01', 2, 'Electrical Engineer');\n",
        "insert into EMPREGADO (EMPREGADO_ID, NOME, DEPARTAMENTO_ID, SALARIO, DATA_ADMISSAO, GERENTE_ID, CARGO) values (53, 'Martynne', 2, 3905.77, '2024-01-14', 5, 'Senior Financial Analyst');\n",
        "insert into EMPREGADO (EMPREGADO_ID, NOME, DEPARTAMENTO_ID, SALARIO, DATA_ADMISSAO, GERENTE_ID, CARGO) values (54, 'Jamil', 1, 9065.6, '2023-12-29', 1, 'Systems Administrator IV');\n",
        "insert into EMPREGADO (EMPREGADO_ID, NOME, DEPARTAMENTO_ID, SALARIO, DATA_ADMISSAO, GERENTE_ID, CARGO) values (55, 'Gloriane', 8, 9832.57, '2024-06-30', 5, 'Recruiter');\n",
        "insert into EMPREGADO (EMPREGADO_ID, NOME, DEPARTAMENTO_ID, SALARIO, DATA_ADMISSAO, GERENTE_ID, CARGO) values (56, 'Veronique', 5, 6091.74, '2024-08-03', 2, 'Research Nurse');\n",
        "insert into EMPREGADO (EMPREGADO_ID, NOME, DEPARTAMENTO_ID, SALARIO, DATA_ADMISSAO, GERENTE_ID, CARGO) values (57, 'Noam', 7, 3667.65, '2024-08-11', 5, 'Help Desk Operator');\n",
        "insert into EMPREGADO (EMPREGADO_ID, NOME, DEPARTAMENTO_ID, SALARIO, DATA_ADMISSAO, GERENTE_ID, CARGO) values (63, 'Tabbi', 8, 9513.63, '2024-01-09', 4, 'Marketing Assistant');\n",
        "insert into EMPREGADO (EMPREGADO_ID, NOME, DEPARTAMENTO_ID, SALARIO, DATA_ADMISSAO, GERENTE_ID, CARGO) values (64, 'Valentine', 9, 7310.81, '2024-01-18', 4, 'Financial Advisor');\n",
        "insert into EMPREGADO (EMPREGADO_ID, NOME, DEPARTAMENTO_ID, SALARIO, DATA_ADMISSAO, GERENTE_ID, CARGO) values (65, 'Jacquelyn', 1, 5003.42, '2023-11-18', 5, 'Developer II');\n",
        "insert into EMPREGADO (EMPREGADO_ID, NOME, DEPARTAMENTO_ID, SALARIO, DATA_ADMISSAO, GERENTE_ID, CARGO) values (66, 'Chilton', 9, 9617.92, '2023-12-22', 1, 'Compensation Analyst');\n",
        "insert into EMPREGADO (EMPREGADO_ID, NOME, DEPARTAMENTO_ID, SALARIO, DATA_ADMISSAO, GERENTE_ID, CARGO) values (67, 'Prudy', 6, 2823.37, '2024-09-02', 5, 'Nurse Practicioner');\n",
        "insert into EMPREGADO (EMPREGADO_ID, NOME, DEPARTAMENTO_ID, SALARIO, DATA_ADMISSAO, GERENTE_ID, CARGO) values (68, 'Mariska', 9, 3077.81, '2024-08-10', 1, 'Senior Cost Accountant');\n",
        "insert into EMPREGADO (EMPREGADO_ID, NOME, DEPARTAMENTO_ID, SALARIO, DATA_ADMISSAO, GERENTE_ID, CARGO) values (71, 'Corri', 4, 4804.15, '2024-04-26', 5, 'Administrative Assistant IV');\n",
        "insert into EMPREGADO (EMPREGADO_ID, NOME, DEPARTAMENTO_ID, SALARIO, DATA_ADMISSAO, GERENTE_ID, CARGO) values (73, 'Clementine', 8, 7900.99, '2024-07-08', 3, 'VP Marketing');\n",
        "insert into EMPREGADO (EMPREGADO_ID, NOME, DEPARTAMENTO_ID, SALARIO, DATA_ADMISSAO, GERENTE_ID, CARGO) values (74, 'Brooke', 4, 5379.23, '2024-03-25', 2, 'Librarian');\n",
        "insert into EMPREGADO (EMPREGADO_ID, NOME, DEPARTAMENTO_ID, SALARIO, DATA_ADMISSAO, GERENTE_ID, CARGO) values (77, 'Vern', 3, 5567.05, '2023-09-29', 4, 'Chief Design Engineer');\n",
        "insert into EMPREGADO (EMPREGADO_ID, NOME, DEPARTAMENTO_ID, SALARIO, DATA_ADMISSAO, GERENTE_ID, CARGO) values (78, 'Waylin', 10, 2727.74, '2023-09-14', 3, 'Actuary');\n",
        "insert into EMPREGADO (EMPREGADO_ID, NOME, DEPARTAMENTO_ID, SALARIO, DATA_ADMISSAO, GERENTE_ID, CARGO) values (80, 'Kassi', 4, 3148.16, '2024-01-13', 5, 'Payment Adjustment Coordinator');\n",
        "insert into EMPREGADO (EMPREGADO_ID, NOME, DEPARTAMENTO_ID, SALARIO, DATA_ADMISSAO, GERENTE_ID, CARGO) values (83, 'Kevan', 3, 3949.68, '2024-05-04', 1, 'VP Sales');\n",
        "insert into EMPREGADO (EMPREGADO_ID, NOME, DEPARTAMENTO_ID, SALARIO, DATA_ADMISSAO, GERENTE_ID, CARGO) values (84, 'Giralda', 3, 8929.31, '2024-03-30', 1, 'Nurse Practicioner');\n",
        "insert into EMPREGADO (EMPREGADO_ID, NOME, DEPARTAMENTO_ID, SALARIO, DATA_ADMISSAO, GERENTE_ID, CARGO) values (85, 'Woodrow', 8, 4812.46, '2024-03-09', 2, 'VP Product Management');\n",
        "insert into EMPREGADO (EMPREGADO_ID, NOME, DEPARTAMENTO_ID, SALARIO, DATA_ADMISSAO, GERENTE_ID, CARGO) values (86, 'Birgit', 3, 5561.94, '2024-03-28', 5, 'Environmental Specialist');\n",
        "insert into EMPREGADO (EMPREGADO_ID, NOME, DEPARTAMENTO_ID, SALARIO, DATA_ADMISSAO, GERENTE_ID, CARGO) values (88, 'Diarmid', 9, 8521.11, '2024-02-29', 3, 'Systems Administrator IV');\n",
        "insert into EMPREGADO (EMPREGADO_ID, NOME, DEPARTAMENTO_ID, SALARIO, DATA_ADMISSAO, GERENTE_ID, CARGO) values (89, 'Amalle', 1, 8971.75, '2023-12-10', 3, 'Senior Quality Engineer');\n",
        "insert into EMPREGADO (EMPREGADO_ID, NOME, DEPARTAMENTO_ID, SALARIO, DATA_ADMISSAO, GERENTE_ID, CARGO) values (90, 'Nicola', 4, 2402.0, '2024-06-02', 2, 'Information Systems Manager');\n",
        "insert into EMPREGADO (EMPREGADO_ID, NOME, DEPARTAMENTO_ID, SALARIO, DATA_ADMISSAO, GERENTE_ID, CARGO) values (93, 'Skye', 8, 2950.2, '2024-04-12', 5, 'Professor');\n",
        "insert into EMPREGADO (EMPREGADO_ID, NOME, DEPARTAMENTO_ID, SALARIO, DATA_ADMISSAO, GERENTE_ID, CARGO) values (94, 'Den', 6, 7300.73, '2023-12-23', 5, 'Structural Analysis Engineer');\n",
        "insert into EMPREGADO (EMPREGADO_ID, NOME, DEPARTAMENTO_ID, SALARIO, DATA_ADMISSAO, GERENTE_ID, CARGO) values (95, 'Kayla', 7, 4963.82, '2023-09-15', 4, 'Safety Technician I');\n",
        "insert into EMPREGADO (EMPREGADO_ID, NOME, DEPARTAMENTO_ID, SALARIO, DATA_ADMISSAO, GERENTE_ID, CARGO) values (98, 'Philippa', 8, 2357.92, '2024-01-07', 4, 'Electrical Engineer');\n",
        "insert into EMPREGADO (EMPREGADO_ID, NOME, DEPARTAMENTO_ID, SALARIO, DATA_ADMISSAO, GERENTE_ID, CARGO) values (99, 'Jan', 5, 3195.99, '2024-04-24', 3, 'Editor');\n"
      ],
      "metadata": {
        "id": "Eb8O7YIfOmuz"
      },
      "execution_count": null,
      "outputs": []
    },
    {
      "cell_type": "code",
      "source": [
        "# Alteração para AUTO INCREMENT para não precisar mais ajustar o número do ID_Empregado:\n",
        "\n",
        "ALTER TABLE EMPREGADO DROP PRIMARY KEY;\n",
        "ALTER TABLE EMPREGADO MODIFY EMPREGADO_ID INT AUTO_INCREMENT PRIMARY KEY;\n",
        "\n",
        "# Continuação da inserção de dados:\n",
        "insert into EMPREGADO (NOME, DEPARTAMENTO_ID, SALARIO, DATA_ADMISSAO, GERENTE_ID, CARGO) values ('Katrine', 6, 6438.15, '2023-10-31', 3, 'Teacher');\n",
        "insert into EMPREGADO (NOME, DEPARTAMENTO_ID, SALARIO, DATA_ADMISSAO, GERENTE_ID, CARGO) values ('Shannon', 7, 2018.6, '2023-11-13', 3, 'Assistant Media Planner');\n",
        "insert into EMPREGADO (NOME, DEPARTAMENTO_ID, SALARIO, DATA_ADMISSAO, GERENTE_ID, CARGO) values ('Vic', 6, 9930.02, '2023-11-20', 5, 'Teacher');\n",
        "insert into EMPREGADO (NOME, DEPARTAMENTO_ID, SALARIO, DATA_ADMISSAO, GERENTE_ID, CARGO) values ('Petronilla', 4, 2699.44, '2024-03-17', 2, 'Community Outreach Specialist');\n",
        "insert into EMPREGADO (NOME, DEPARTAMENTO_ID, SALARIO, DATA_ADMISSAO, GERENTE_ID, CARGO) values ('Hervey', 4, 3192.24, '2023-10-06', 5, 'Help Desk Operator');\n",
        "insert into EMPREGADO (NOME, DEPARTAMENTO_ID, SALARIO, DATA_ADMISSAO, GERENTE_ID, CARGO) values ('Gaye', 2, 5898.64, '2023-09-18', 3, 'Media Manager II');\n",
        "insert into EMPREGADO (NOME, DEPARTAMENTO_ID, SALARIO, DATA_ADMISSAO, GERENTE_ID, CARGO) values ('Lynelle', 5, 5751.86, '2024-05-27', 2, 'Dental Hygienist');\n",
        "insert into EMPREGADO (NOME, DEPARTAMENTO_ID, SALARIO, DATA_ADMISSAO, GERENTE_ID, CARGO) values ('Emmy', 1, 8875.33, '2023-12-27', 2, 'Technical Writer');\n",
        "insert into EMPREGADO (NOME, DEPARTAMENTO_ID, SALARIO, DATA_ADMISSAO, GERENTE_ID, CARGO) values ('Forrester', 8, 8615.27, '2023-12-18', 2, 'Research Nurse');\n",
        "insert into EMPREGADO (NOME, DEPARTAMENTO_ID, SALARIO, DATA_ADMISSAO, GERENTE_ID, CARGO) values ('Valentine', 3, 5192.62, '2024-02-07', 1, 'Food Chemist');\n",
        "insert into EMPREGADO (NOME, DEPARTAMENTO_ID, SALARIO, DATA_ADMISSAO, GERENTE_ID, CARGO) values ('Dedra', 8, 3440.36, '2024-09-05', 4, 'Teacher');\n",
        "insert into EMPREGADO (NOME, DEPARTAMENTO_ID, SALARIO, DATA_ADMISSAO, GERENTE_ID, CARGO) values ('Gretal', 7, 9964.22, '2024-03-18', 3, 'Systems Administrator II');\n",
        "insert into EMPREGADO (NOME, DEPARTAMENTO_ID, SALARIO, DATA_ADMISSAO, GERENTE_ID, CARGO) values ('Claretta', 8, 9603.45, '2024-08-04', 5, 'Software Engineer I');\n",
        "insert into EMPREGADO (NOME, DEPARTAMENTO_ID, SALARIO, DATA_ADMISSAO, GERENTE_ID, CARGO) values ('Ivonne', 2, 6183.02, '2024-04-04', 3, 'Senior Sales Associate');\n",
        "insert into EMPREGADO (NOME, DEPARTAMENTO_ID, SALARIO, DATA_ADMISSAO, GERENTE_ID, CARGO) values ('Delores', 6, 3198.47, '2024-05-14', 2, 'Senior Financial Analyst');\n",
        "insert into EMPREGADO (NOME, DEPARTAMENTO_ID, SALARIO, DATA_ADMISSAO, GERENTE_ID, CARGO) values ('Elladine', 9, 6338.28, '2023-11-17', 3, 'Analyst Programmer');\n",
        "insert into EMPREGADO (NOME, DEPARTAMENTO_ID, SALARIO, DATA_ADMISSAO, GERENTE_ID, CARGO) values ('Horst', 1, 9227.6, '2024-07-16', 2, 'Accountant II');\n",
        "insert into EMPREGADO (NOME, DEPARTAMENTO_ID, SALARIO, DATA_ADMISSAO, GERENTE_ID, CARGO) values ('Tessy', 3, 7563.48, '2024-04-22', 2, 'Product Engineer');\n",
        "insert into EMPREGADO (NOME, DEPARTAMENTO_ID, SALARIO, DATA_ADMISSAO, GERENTE_ID, CARGO) values ('Tessy', 8, 4790.48, '2024-05-22', 3, 'Software Consultant');\n",
        "insert into EMPREGADO (NOME, DEPARTAMENTO_ID, SALARIO, DATA_ADMISSAO, GERENTE_ID, CARGO) values ('Guillermo', 6, 2873.51, '2024-02-01', 1, 'Developer III');\n",
        "insert into EMPREGADO (NOME, DEPARTAMENTO_ID, SALARIO, DATA_ADMISSAO, GERENTE_ID, CARGO) values ('Thoma', 6, 3609.03, '2024-08-06', 3, 'Payment Adjustment Coordinator');\n",
        "insert into EMPREGADO (NOME, DEPARTAMENTO_ID, SALARIO, DATA_ADMISSAO, GERENTE_ID, CARGO) values ('Dayle', 9, 3829.46, '2024-04-16', 4, 'Business Systems Development Analyst');\n",
        "insert into EMPREGADO (NOME, DEPARTAMENTO_ID, SALARIO, DATA_ADMISSAO, GERENTE_ID, CARGO) values ('Jdavie', 7, 7513.37, '2024-08-07', 2, 'Environmental Specialist');\n",
        "insert into EMPREGADO (NOME, DEPARTAMENTO_ID, SALARIO, DATA_ADMISSAO, GERENTE_ID, CARGO) values ('Leeanne', 5, 3459.86, '2024-06-02', 1, 'VP Sales');\n",
        "insert into EMPREGADO (NOME, DEPARTAMENTO_ID, SALARIO, DATA_ADMISSAO, GERENTE_ID, CARGO) values ('Willa', 10, 4744.9, '2023-12-23', 1, 'Nurse Practicioner');\n",
        "insert into EMPREGADO (NOME, DEPARTAMENTO_ID, SALARIO, DATA_ADMISSAO, GERENTE_ID, CARGO) values ('Ashton', 7, 5222.33, '2024-09-02', 1, 'Account Coordinator');\n",
        "insert into EMPREGADO (NOME, DEPARTAMENTO_ID, SALARIO, DATA_ADMISSAO, GERENTE_ID, CARGO) values ('Monique', 1, 2294.01, '2024-04-07', 3, 'Help Desk Operator');\n",
        "insert into EMPREGADO (NOME, DEPARTAMENTO_ID, SALARIO, DATA_ADMISSAO, GERENTE_ID, CARGO) values ('Ernie', 10, 4563.03, '2024-03-20', 3, 'Assistant Professor');\n",
        "insert into EMPREGADO (NOME, DEPARTAMENTO_ID, SALARIO, DATA_ADMISSAO, GERENTE_ID, CARGO) values ('Yule', 2, 3474.74, '2024-01-31', 5, 'Safety Technician IV');\n",
        "insert into EMPREGADO (NOME, DEPARTAMENTO_ID, SALARIO, DATA_ADMISSAO, GERENTE_ID, CARGO) values ('Ofelia', 3, 9617.17, '2024-05-16', 4, 'Environmental Specialist');\n",
        "insert into EMPREGADO (NOME, DEPARTAMENTO_ID, SALARIO, DATA_ADMISSAO, GERENTE_ID, CARGO) values ('Ade', 4, 4561.0, '2023-11-04', 1, 'Sales Associate');\n",
        "insert into EMPREGADO (NOME, DEPARTAMENTO_ID, SALARIO, DATA_ADMISSAO, GERENTE_ID, CARGO) values ('Essy', 7, 4985.91, '2024-01-01', 1, 'Financial Analyst');\n",
        "insert into EMPREGADO (NOME, DEPARTAMENTO_ID, SALARIO, DATA_ADMISSAO, GERENTE_ID, CARGO) values ('Maximilianus', 3, 2099.99, '2024-08-09', 2, 'Clinical Specialist');\n",
        "insert into EMPREGADO (NOME, DEPARTAMENTO_ID, SALARIO, DATA_ADMISSAO, GERENTE_ID, CARGO) values ('Catlee', 6, 2237.22, '2024-04-03', 3, 'Payment Adjustment Coordinator');\n",
        "insert into EMPREGADO (NOME, DEPARTAMENTO_ID, SALARIO, DATA_ADMISSAO, GERENTE_ID, CARGO) values ('Jessamine', 3, 8059.87, '2024-02-28', 2, 'Help Desk Technician');\n",
        "insert into EMPREGADO (NOME, DEPARTAMENTO_ID, SALARIO, DATA_ADMISSAO, GERENTE_ID, CARGO) values ('Lincoln', 3, 8648.09, '2024-07-22', 3, 'Staff Accountant I');\n",
        "insert into EMPREGADO (NOME, DEPARTAMENTO_ID, SALARIO, DATA_ADMISSAO, GERENTE_ID, CARGO) values ('Horatia', 9, 6887.25, '2024-01-28', 3, 'Senior Cost Accountant');\n",
        "insert into EMPREGADO (NOME, DEPARTAMENTO_ID, SALARIO, DATA_ADMISSAO, GERENTE_ID, CARGO) values ('Evangelin', 7, 6339.92, '2024-01-04', 1, 'Civil Engineer');\n",
        "insert into EMPREGADO (NOME, DEPARTAMENTO_ID, SALARIO, DATA_ADMISSAO, GERENTE_ID, CARGO) values ('Ashlie', 1, 4371.7, '2023-09-19', 3, 'Research Assistant I');\n",
        "insert into EMPREGADO (NOME, DEPARTAMENTO_ID, SALARIO, DATA_ADMISSAO, GERENTE_ID, CARGO) values ('Donia', 1, 4845.74, '2023-09-21', 1, 'Editor');\n",
        "insert into EMPREGADO (NOME, DEPARTAMENTO_ID, SALARIO, DATA_ADMISSAO, GERENTE_ID, CARGO) values ('Tobye', 7, 8975.08, '2024-03-17', 4, 'Senior Cost Accountant');\n",
        "insert into EMPREGADO (NOME, DEPARTAMENTO_ID, SALARIO, DATA_ADMISSAO, GERENTE_ID, CARGO) values ('Belita', 5, 9114.21, '2024-02-11', 2, 'Pharmacist');\n",
        "insert into EMPREGADO (NOME, DEPARTAMENTO_ID, SALARIO, DATA_ADMISSAO, GERENTE_ID, CARGO) values ('Katha', 9, 4033.53, '2024-06-10', 5, 'Compensation Analyst');\n",
        "insert into EMPREGADO (NOME, DEPARTAMENTO_ID, SALARIO, DATA_ADMISSAO, GERENTE_ID, CARGO) values ('Liuka', 6, 6426.67, '2024-03-26', 1, 'Design Engineer');\n",
        "insert into EMPREGADO (NOME, DEPARTAMENTO_ID, SALARIO, DATA_ADMISSAO, GERENTE_ID, CARGO) values ('Korie', 9, 3295.04, '2024-01-13', 3, 'Accounting Assistant II');\n",
        "insert into EMPREGADO (NOME, DEPARTAMENTO_ID, SALARIO, DATA_ADMISSAO, GERENTE_ID, CARGO) values ('Willi', 1, 4818.02, '2024-05-27', 2, 'Quality Engineer');\n",
        "insert into EMPREGADO (NOME, DEPARTAMENTO_ID, SALARIO, DATA_ADMISSAO, GERENTE_ID, CARGO) values ('Erma', 7, 7287.55, '2024-03-22', 1, 'Actuary');\n",
        "insert into EMPREGADO (NOME, DEPARTAMENTO_ID, SALARIO, DATA_ADMISSAO, GERENTE_ID, CARGO) values ('Charo', 3, 5003.42, '2024-04-07', 4, 'Senior Developer');\n",
        "insert into EMPREGADO (NOME, DEPARTAMENTO_ID, SALARIO, DATA_ADMISSAO, GERENTE_ID, CARGO) values ('Nicol', 4, 9655.84, '2023-12-29', 3, 'Chief Design Engineer');\n",
        "insert into EMPREGADO (NOME, DEPARTAMENTO_ID, SALARIO, DATA_ADMISSAO, GERENTE_ID, CARGO) values ('Nicolai', 5, 7248.03, '2023-11-06', 5, 'Cost Accountant');\n",
        "insert into EMPREGADO (NOME, DEPARTAMENTO_ID, SALARIO, DATA_ADMISSAO, GERENTE_ID, CARGO) values ('Harrison', 4, 3060.78, '2024-04-08', 1, 'Internal Auditor');\n",
        "insert into EMPREGADO (NOME, DEPARTAMENTO_ID, SALARIO, DATA_ADMISSAO, GERENTE_ID, CARGO) values ('Valry', 4, 7212.13, '2024-08-05', 4, 'Sales Associate');\n",
        "insert into EMPREGADO (NOME, DEPARTAMENTO_ID, SALARIO, DATA_ADMISSAO, GERENTE_ID, CARGO) values ('Jaye', 8, 3962.27, '2023-11-10', 5, 'Recruiter');\n",
        "insert into EMPREGADO (NOME, DEPARTAMENTO_ID, SALARIO, DATA_ADMISSAO, GERENTE_ID, CARGO) values ('Friedrick', 8, 4921.98, '2024-08-06', 2, 'Geological Engineer');\n",
        "insert into EMPREGADO (NOME, DEPARTAMENTO_ID, SALARIO, DATA_ADMISSAO, GERENTE_ID, CARGO) values ('Jeri', 5, 4987.07, '2024-02-26', 4, 'Analog Circuit Design manager');\n",
        "insert into EMPREGADO (NOME, DEPARTAMENTO_ID, SALARIO, DATA_ADMISSAO, GERENTE_ID, CARGO) values ('Ware', 5, 8104.45, '2024-05-06', 4, 'Human Resources Manager');\n",
        "insert into EMPREGADO (NOME, DEPARTAMENTO_ID, SALARIO, DATA_ADMISSAO, GERENTE_ID, CARGO) values ('Jarid', 5, 7015.81, '2024-04-25', 3, 'Civil Engineer');\n",
        "insert into EMPREGADO (NOME, DEPARTAMENTO_ID, SALARIO, DATA_ADMISSAO, GERENTE_ID, CARGO) values ('Antonius', 1, 8365.73, '2024-06-23', 1, 'Systems Administrator III');\n",
        "insert into EMPREGADO (NOME, DEPARTAMENTO_ID, SALARIO, DATA_ADMISSAO, GERENTE_ID, CARGO) values ('Eveline', 6, 3826.46, '2024-02-21', 4, 'Financial Analyst');\n",
        "insert into EMPREGADO (NOME, DEPARTAMENTO_ID, SALARIO, DATA_ADMISSAO, GERENTE_ID, CARGO) values ('Cameron', 4, 2965.03, '2024-06-19', 2, 'Geologist IV');\n",
        "insert into EMPREGADO (NOME, DEPARTAMENTO_ID, SALARIO, DATA_ADMISSAO, GERENTE_ID, CARGO) values ('Josee', 6, 3471.4, '2024-04-09', 5, 'VP Product Management');\n",
        "insert into EMPREGADO (NOME, DEPARTAMENTO_ID, SALARIO, DATA_ADMISSAO, GERENTE_ID, CARGO) values ('Rafa', 3, 3568.58, '2023-09-26', 1, 'Analog Circuit Design manager');\n",
        "insert into EMPREGADO (NOME, DEPARTAMENTO_ID, SALARIO, DATA_ADMISSAO, GERENTE_ID, CARGO) values ('Davie', 6, 4382.63, '2024-03-20', 2, 'Assistant Media Planner');\n",
        "insert into EMPREGADO (NOME, DEPARTAMENTO_ID, SALARIO, DATA_ADMISSAO, GERENTE_ID, CARGO) values ('Boothe', 1, 5798.79, '2024-05-17', 5, 'Community Outreach Specialist');\n",
        "insert into EMPREGADO (NOME, DEPARTAMENTO_ID, SALARIO, DATA_ADMISSAO, GERENTE_ID, CARGO) values ('Clayson', 2, 8360.12, '2024-04-08', 2, 'Recruiting Manager');\n",
        "insert into EMPREGADO (NOME, DEPARTAMENTO_ID, SALARIO, DATA_ADMISSAO, GERENTE_ID, CARGO) values ('Iago', 1, 2034.51, '2023-10-23', 3, 'Tax Accountant');\n",
        "insert into EMPREGADO (NOME, DEPARTAMENTO_ID, SALARIO, DATA_ADMISSAO, GERENTE_ID, CARGO) values ('Thaxter', 1, 2142.04, '2024-06-02', 5, 'Account Coordinator');\n",
        "insert into EMPREGADO (NOME, DEPARTAMENTO_ID, SALARIO, DATA_ADMISSAO, GERENTE_ID, CARGO) values ('Jewelle', 3, 8030.56, '2024-01-31', 1, 'Social Worker');\n",
        "insert into EMPREGADO (NOME, DEPARTAMENTO_ID, SALARIO, DATA_ADMISSAO, GERENTE_ID, CARGO) values ('Izabel', 7, 3896.01, '2023-09-18', 1, 'Account Executive');\n",
        "insert into EMPREGADO (NOME, DEPARTAMENTO_ID, SALARIO, DATA_ADMISSAO, GERENTE_ID, CARGO) values ('Kimmi', 4, 6733.65, '2023-12-30', 1, 'Budget/Accounting Analyst IV');\n",
        "insert into EMPREGADO (NOME, DEPARTAMENTO_ID, SALARIO, DATA_ADMISSAO, GERENTE_ID, CARGO) values ('Maxwell', 5, 3201.7, '2024-06-24', 4, 'Design Engineer');\n",
        "insert into EMPREGADO (NOME, DEPARTAMENTO_ID, SALARIO, DATA_ADMISSAO, GERENTE_ID, CARGO) values ('Loren', 2, 4035.84, '2023-09-23', 1, 'Teacher');\n",
        "insert into EMPREGADO (NOME, DEPARTAMENTO_ID, SALARIO, DATA_ADMISSAO, GERENTE_ID, CARGO) values ('Ferrell', 8, 6016.44, '2023-10-31', 3, 'Help Desk Operator');\n",
        "insert into EMPREGADO (NOME, DEPARTAMENTO_ID, SALARIO, DATA_ADMISSAO, GERENTE_ID, CARGO) values ('Brana', 5, 6734.78, '2024-07-30', 4, 'Assistant Manager');\n",
        "insert into EMPREGADO (NOME, DEPARTAMENTO_ID, SALARIO, DATA_ADMISSAO, GERENTE_ID, CARGO) values ('Nan', 9, 8965.58, '2024-05-11', 2, 'Account Representative III');\n",
        "insert into EMPREGADO (NOME, DEPARTAMENTO_ID, SALARIO, DATA_ADMISSAO, GERENTE_ID, CARGO) values ('Prinz', 3, 9392.5, '2023-11-29', 5, 'Media Manager II');\n",
        "insert into EMPREGADO (NOME, DEPARTAMENTO_ID, SALARIO, DATA_ADMISSAO, GERENTE_ID, CARGO) values ('Consuela', 6, 3006.64, '2023-11-17', 1, 'Accountant I');\n",
        "insert into EMPREGADO (NOME, DEPARTAMENTO_ID, SALARIO, DATA_ADMISSAO, GERENTE_ID, CARGO) values ('Angus', 1, 4483.49, '2024-03-11', 1, 'Systems Administrator IV');\n",
        "insert into EMPREGADO (NOME, DEPARTAMENTO_ID, SALARIO, DATA_ADMISSAO, GERENTE_ID, CARGO) values ('Cornell', 5, 8426.91, '2023-10-31', 4, 'Safety Technician II');\n",
        "insert into EMPREGADO (NOME, DEPARTAMENTO_ID, SALARIO, DATA_ADMISSAO, GERENTE_ID, CARGO) values ('Nataniel', 5, 3261.94, '2024-07-11', 5, 'Tax Accountant');\n",
        "insert into EMPREGADO (NOME, DEPARTAMENTO_ID, SALARIO, DATA_ADMISSAO, GERENTE_ID, CARGO) values ('Alaric', 2, 5903.54, '2023-11-01', 2, 'Software Engineer IV');\n",
        "insert into EMPREGADO (NOME, DEPARTAMENTO_ID, SALARIO, DATA_ADMISSAO, GERENTE_ID, CARGO) values ('Tadeo', 3, 6167.42, '2024-02-02', 3, 'Account Representative II');\n",
        "insert into EMPREGADO (NOME, DEPARTAMENTO_ID, SALARIO, DATA_ADMISSAO, GERENTE_ID, CARGO) values ('Livia', 8, 8301.18, '2023-11-03', 2, 'Internal Auditor');\n",
        "insert into EMPREGADO (NOME, DEPARTAMENTO_ID, SALARIO, DATA_ADMISSAO, GERENTE_ID, CARGO) values ('Giorgia', 10, 6773.96, '2024-05-02', 4, 'Data Coordinator');\n",
        "insert into EMPREGADO (NOME, DEPARTAMENTO_ID, SALARIO, DATA_ADMISSAO, GERENTE_ID, CARGO) values ('Cullin', 10, 7098.09, '2024-08-10', 2, 'Occupational Therapist');\n",
        "insert into EMPREGADO (NOME, DEPARTAMENTO_ID, SALARIO, DATA_ADMISSAO, GERENTE_ID, CARGO) values ('Denney', 8, 4418.89, '2023-09-18', 1, 'Executive Secretary');\n",
        "insert into EMPREGADO (NOME, DEPARTAMENTO_ID, SALARIO, DATA_ADMISSAO, GERENTE_ID, CARGO) values ('Latrena', 7, 7091.87, '2023-12-06', 4, 'Research Assistant I');\n",
        "insert into EMPREGADO (NOME, DEPARTAMENTO_ID, SALARIO, DATA_ADMISSAO, GERENTE_ID, CARGO) values ('Ambur', 7, 3084.0, '2024-06-23', 2, 'Database Administrator II');\n",
        "insert into EMPREGADO (NOME, DEPARTAMENTO_ID, SALARIO, DATA_ADMISSAO, GERENTE_ID, CARGO) values ('Ulrick', 7, 2437.69, '2023-12-19', 3, 'Editor');\n",
        "insert into EMPREGADO (NOME, DEPARTAMENTO_ID, SALARIO, DATA_ADMISSAO, GERENTE_ID, CARGO) values ('Fanchon', 2, 6175.11, '2024-07-11', 5, 'Programmer I');\n",
        "insert into EMPREGADO (NOME, DEPARTAMENTO_ID, SALARIO, DATA_ADMISSAO, GERENTE_ID, CARGO) values ('Viviene', 2, 3953.08, '2023-09-25', 3, 'Budget/Accounting Analyst I');\n",
        "insert into EMPREGADO (NOME, DEPARTAMENTO_ID, SALARIO, DATA_ADMISSAO, GERENTE_ID, CARGO) values ('Elfie', 5, 6902.12, '2024-01-03', 3, 'Engineer II');\n",
        "insert into EMPREGADO (NOME, DEPARTAMENTO_ID, SALARIO, DATA_ADMISSAO, GERENTE_ID, CARGO) values ('Neil', 7, 2215.6, '2024-01-02', 5, 'Environmental Specialist');\n",
        "insert into EMPREGADO (NOME, DEPARTAMENTO_ID, SALARIO, DATA_ADMISSAO, GERENTE_ID, CARGO) values ('Barbabas', 4, 6910.19, '2024-05-22', 2, 'Marketing Assistant');\n",
        "insert into EMPREGADO (NOME, DEPARTAMENTO_ID, SALARIO, DATA_ADMISSAO, GERENTE_ID, CARGO) values ('Grenville', 6, 3871.86, '2023-12-14', 4, 'Structural Engineer');\n",
        "insert into EMPREGADO (NOME, DEPARTAMENTO_ID, SALARIO, DATA_ADMISSAO, GERENTE_ID, CARGO) values ('Carolin', 2, 2858.3, '2024-08-04', 5, 'Professor');\n",
        "insert into EMPREGADO (NOME, DEPARTAMENTO_ID, SALARIO, DATA_ADMISSAO, GERENTE_ID, CARGO) values ('Arman', 4, 8229.83, '2024-06-02', 1, 'GIS Technical Architect');\n",
        "insert into EMPREGADO (NOME, DEPARTAMENTO_ID, SALARIO, DATA_ADMISSAO, GERENTE_ID, CARGO) values ('Ruthi', 3, 7429.68, '2024-03-13', 3, 'Desktop Support Technician');\n",
        "insert into EMPREGADO (NOME, DEPARTAMENTO_ID, SALARIO, DATA_ADMISSAO, GERENTE_ID, CARGO) values ('Orel', 5, 4497.98, '2024-08-13', 1, 'Legal Assistant');\n",
        "insert into EMPREGADO (NOME, DEPARTAMENTO_ID, SALARIO, DATA_ADMISSAO, GERENTE_ID, CARGO) values ('Morgun', 1, 7567.7, '2024-03-14', 5, 'Senior Sales Associate');\n",
        "insert into EMPREGADO (NOME, DEPARTAMENTO_ID, SALARIO, DATA_ADMISSAO, GERENTE_ID, CARGO) values ('Shaylynn', 5, 6462.03, '2024-04-16', 2, 'Registered Nurse');\n",
        "insert into EMPREGADO (NOME, DEPARTAMENTO_ID, SALARIO, DATA_ADMISSAO, GERENTE_ID, CARGO) values ('Thedric', 3, 6331.49, '2024-05-14', 3, 'Engineer I');\n",
        "insert into EMPREGADO (NOME, DEPARTAMENTO_ID, SALARIO, DATA_ADMISSAO, GERENTE_ID, CARGO) values ('Maxie', 3, 4737.49, '2024-01-13', 1, 'Graphic Designer');\n",
        "insert into EMPREGADO (NOME, DEPARTAMENTO_ID, SALARIO, DATA_ADMISSAO, GERENTE_ID, CARGO) values ('Emmeline', 1, 4339.0, '2024-02-13', 2, 'Technical Writer');\n",
        "insert into EMPREGADO (NOME, DEPARTAMENTO_ID, SALARIO, DATA_ADMISSAO, GERENTE_ID, CARGO) values ('Denver', 1, 4263.98, '2024-04-26', 2, 'Project Manager');\n",
        "insert into EMPREGADO (NOME, DEPARTAMENTO_ID, SALARIO, DATA_ADMISSAO, GERENTE_ID, CARGO) values ('Clo', 5, 9033.92, '2024-05-11', 4, 'Automation Specialist II');\n",
        "insert into EMPREGADO (NOME, DEPARTAMENTO_ID, SALARIO, DATA_ADMISSAO, GERENTE_ID, CARGO) values ('Sayre', 4, 9350.82, '2024-06-16', 5, 'Account Representative IV');\n",
        "insert into EMPREGADO (NOME, DEPARTAMENTO_ID, SALARIO, DATA_ADMISSAO, GERENTE_ID, CARGO) values ('Guglielmo', 8, 6522.69, '2024-01-11', 4, 'Desktop Support Technician');\n",
        "insert into EMPREGADO (NOME, DEPARTAMENTO_ID, SALARIO, DATA_ADMISSAO, GERENTE_ID, CARGO) values ('Melba', 4, 5840.78, '2023-10-17', 2, 'Assistant Manager');\n",
        "insert into EMPREGADO (NOME, DEPARTAMENTO_ID, SALARIO, DATA_ADMISSAO, GERENTE_ID, CARGO) values ('Guido', 9, 9317.52, '2024-01-04', 4, 'Sales Associate');\n",
        "insert into EMPREGADO (NOME, DEPARTAMENTO_ID, SALARIO, DATA_ADMISSAO, GERENTE_ID, CARGO) values ('Olimpia', 1, 2219.43, '2023-10-09', 1, 'Project Manager');\n",
        "insert into EMPREGADO (NOME, DEPARTAMENTO_ID, SALARIO, DATA_ADMISSAO, GERENTE_ID, CARGO) values ('Kata', 4, 4028.26, '2024-04-19', 2, 'Senior Financial Analyst');\n",
        "insert into EMPREGADO (NOME, DEPARTAMENTO_ID, SALARIO, DATA_ADMISSAO, GERENTE_ID, CARGO) values ('Brandi', 4, 6034.63, '2024-08-09', 1, 'VP Quality Control');\n",
        "insert into EMPREGADO (NOME, DEPARTAMENTO_ID, SALARIO, DATA_ADMISSAO, GERENTE_ID, CARGO) values ('Koral', 4, 4961.08, '2023-11-13', 2, 'Administrative Officer');\n",
        "insert into EMPREGADO (NOME, DEPARTAMENTO_ID, SALARIO, DATA_ADMISSAO, GERENTE_ID, CARGO) values ('Rube', 9, 2426.24, '2024-04-04', 2, 'Software Consultant');\n",
        "insert into EMPREGADO (NOME, DEPARTAMENTO_ID, SALARIO, DATA_ADMISSAO, GERENTE_ID, CARGO) values ('Helli', 2, 5270.46, '2024-04-08', 2, 'Developer I');\n",
        "insert into EMPREGADO (NOME, DEPARTAMENTO_ID, SALARIO, DATA_ADMISSAO, GERENTE_ID, CARGO) values ('Jody', 3, 7488.28, '2024-07-23', 4, 'Research Nurse');\n",
        "insert into EMPREGADO (NOME, DEPARTAMENTO_ID, SALARIO, DATA_ADMISSAO, GERENTE_ID, CARGO) values ('Daren', 7, 7762.02, '2024-01-04', 4, 'Assistant Media Planner');\n",
        "insert into EMPREGADO (NOME, DEPARTAMENTO_ID, SALARIO, DATA_ADMISSAO, GERENTE_ID, CARGO) values ('Lola', 6, 6559.64, '2024-07-30', 5, 'Sales Representative');\n",
        "insert into EMPREGADO (NOME, DEPARTAMENTO_ID, SALARIO, DATA_ADMISSAO, GERENTE_ID, CARGO) values ('Audy', 5, 2481.96, '2023-09-25', 5, 'VP Sales');\n",
        "insert into EMPREGADO (NOME, DEPARTAMENTO_ID, SALARIO, DATA_ADMISSAO, GERENTE_ID, CARGO) values ('Mylo', 2, 2247.95, '2023-10-29', 5, 'Nurse Practicioner');\n",
        "insert into EMPREGADO (NOME, DEPARTAMENTO_ID, SALARIO, DATA_ADMISSAO, GERENTE_ID, CARGO) values ('Raine', 6, 5974.35, '2023-10-19', 1, 'Account Coordinator');\n",
        "insert into EMPREGADO (NOME, DEPARTAMENTO_ID, SALARIO, DATA_ADMISSAO, GERENTE_ID, CARGO) values ('Justina', 5, 8592.38, '2024-07-08', 2, 'Accountant III');\n",
        "insert into EMPREGADO (NOME, DEPARTAMENTO_ID, SALARIO, DATA_ADMISSAO, GERENTE_ID, CARGO) values ('Osmund', 7, 6100.13, '2024-03-12', 4, 'Human Resources Manager');\n",
        "insert into EMPREGADO (NOME, DEPARTAMENTO_ID, SALARIO, DATA_ADMISSAO, GERENTE_ID, CARGO) values ('Berke', 10, 5093.5, '2023-11-07', 4, 'Help Desk Technician');\n",
        "insert into EMPREGADO (NOME, DEPARTAMENTO_ID, SALARIO, DATA_ADMISSAO, GERENTE_ID, CARGO) values ('Lorraine', 10, 6989.8, '2024-05-11', 5, 'Help Desk Operator');\n",
        "insert into EMPREGADO (NOME, DEPARTAMENTO_ID, SALARIO, DATA_ADMISSAO, GERENTE_ID, CARGO) values ('Lacy', 8, 5344.5, '2024-09-04', 5, 'Database Administrator I');\n",
        "insert into EMPREGADO (NOME, DEPARTAMENTO_ID, SALARIO, DATA_ADMISSAO, GERENTE_ID, CARGO) values ('Moore', 4, 3614.97, '2023-09-19', 3, 'Quality Control Specialist');\n",
        "insert into EMPREGADO (NOME, DEPARTAMENTO_ID, SALARIO, DATA_ADMISSAO, GERENTE_ID, CARGO) values ('Cherianne', 6, 4659.08, '2024-01-02', 4, 'Media Manager IV');\n",
        "insert into EMPREGADO (NOME, DEPARTAMENTO_ID, SALARIO, DATA_ADMISSAO, GERENTE_ID, CARGO) values ('Hymie', 4, 5044.84, '2024-06-13', 2, 'Nurse Practicioner');\n",
        "insert into EMPREGADO (NOME, DEPARTAMENTO_ID, SALARIO, DATA_ADMISSAO, GERENTE_ID, CARGO) values ('Charles', 7, 7550.14, '2024-01-22', 4, 'Social Worker');\n",
        "insert into EMPREGADO (NOME, DEPARTAMENTO_ID, SALARIO, DATA_ADMISSAO, GERENTE_ID, CARGO) values ('Florinda', 1, 6467.41, '2024-01-18', 5, 'Business Systems Development Analyst');\n",
        "insert into EMPREGADO (NOME, DEPARTAMENTO_ID, SALARIO, DATA_ADMISSAO, GERENTE_ID, CARGO) values ('Denise', 1, 2832.41, '2023-09-26', 1, 'Physical Therapy Assistant');\n",
        "insert into EMPREGADO (NOME, DEPARTAMENTO_ID, SALARIO, DATA_ADMISSAO, GERENTE_ID, CARGO) values ('Eugenie', 8, 9003.45, '2024-01-10', 2, 'Accounting Assistant III');\n",
        "insert into EMPREGADO (NOME, DEPARTAMENTO_ID, SALARIO, DATA_ADMISSAO, GERENTE_ID, CARGO) values ('Trixie', 6, 7335.91, '2024-03-22', 5, 'Compensation Analyst');\n",
        "insert into EMPREGADO (NOME, DEPARTAMENTO_ID, SALARIO, DATA_ADMISSAO, GERENTE_ID, CARGO) values ('Lidia', 4, 3229.63, '2024-08-06', 5, 'Help Desk Operator');\n",
        "insert into EMPREGADO (NOME, DEPARTAMENTO_ID, SALARIO, DATA_ADMISSAO, GERENTE_ID, CARGO) values ('Harcourt', 9, 6101.01, '2024-08-16', 4, 'Senior Developer');\n",
        "insert into EMPREGADO (NOME, DEPARTAMENTO_ID, SALARIO, DATA_ADMISSAO, GERENTE_ID, CARGO) values ('Claudie', 2, 5613.84, '2024-07-29', 1, 'Librarian');\n",
        "insert into EMPREGADO (NOME, DEPARTAMENTO_ID, SALARIO, DATA_ADMISSAO, GERENTE_ID, CARGO) values ('Bard', 1, 4067.5, '2024-01-27', 5, 'Legal Assistant');\n",
        "insert into EMPREGADO (NOME, DEPARTAMENTO_ID, SALARIO, DATA_ADMISSAO, GERENTE_ID, CARGO) values ('Hube', 6, 2853.83, '2024-08-16', 4, 'Project Manager');\n",
        "insert into EMPREGADO (NOME, DEPARTAMENTO_ID, SALARIO, DATA_ADMISSAO, GERENTE_ID, CARGO) values ('Adolph', 4, 7953.65, '2023-09-27', 4, 'VP Product Management');\n",
        "insert into EMPREGADO (NOME, DEPARTAMENTO_ID, SALARIO, DATA_ADMISSAO, GERENTE_ID, CARGO) values ('Carroll', 2, 7664.05, '2024-08-27', 3, 'Payment Adjustment Coordinator');\n",
        "insert into EMPREGADO (NOME, DEPARTAMENTO_ID, SALARIO, DATA_ADMISSAO, GERENTE_ID, CARGO) values ('Dominik', 2, 8796.7, '2024-07-27', 1, 'Junior Executive');\n",
        "insert into EMPREGADO (NOME, DEPARTAMENTO_ID, SALARIO, DATA_ADMISSAO, GERENTE_ID, CARGO) values ('Tonye', 10, 4954.84, '2024-03-11', 4, 'VP Accounting');\n",
        "insert into EMPREGADO (NOME, DEPARTAMENTO_ID, SALARIO, DATA_ADMISSAO, GERENTE_ID, CARGO) values ('Robyn', 7, 8189.2, '2024-06-15', 4, 'Internal Auditor');\n",
        "insert into EMPREGADO (NOME, DEPARTAMENTO_ID, SALARIO, DATA_ADMISSAO, GERENTE_ID, CARGO) values ('Derrik', 3, 5994.46, '2024-03-26', 5, 'Research Nurse');\n",
        "insert into EMPREGADO (NOME, DEPARTAMENTO_ID, SALARIO, DATA_ADMISSAO, GERENTE_ID, CARGO) values ('Ole', 8, 6785.85, '2024-01-02', 2, 'Biostatistician III');\n",
        "insert into EMPREGADO (NOME, DEPARTAMENTO_ID, SALARIO, DATA_ADMISSAO, GERENTE_ID, CARGO) values ('Isobel', 2, 2650.57, '2023-11-26', 2, 'Senior Developer');\n",
        "insert into EMPREGADO (NOME, DEPARTAMENTO_ID, SALARIO, DATA_ADMISSAO, GERENTE_ID, CARGO) values ('Sena', 3, 8671.87, '2024-05-17', 5, 'Payment Adjustment Coordinator');\n",
        "insert into EMPREGADO (NOME, DEPARTAMENTO_ID, SALARIO, DATA_ADMISSAO, GERENTE_ID, CARGO) values ('Vale', 1, 8066.53, '2023-12-14', 3, 'Sales Representative');\n",
        "insert into EMPREGADO (NOME, DEPARTAMENTO_ID, SALARIO, DATA_ADMISSAO, GERENTE_ID, CARGO) values ('Veronike', 4, 3313.17, '2023-12-25', 3, 'Speech Pathologist');\n",
        "insert into EMPREGADO (NOME, DEPARTAMENTO_ID, SALARIO, DATA_ADMISSAO, GERENTE_ID, CARGO) values ('Basia', 7, 9897.38, '2024-08-18', 4, 'Operator');\n",
        "insert into EMPREGADO (NOME, DEPARTAMENTO_ID, SALARIO, DATA_ADMISSAO, GERENTE_ID, CARGO) values ('Clea', 7, 6131.45, '2024-04-10', 5, 'Nuclear Power Engineer');\n",
        "insert into EMPREGADO (NOME, DEPARTAMENTO_ID, SALARIO, DATA_ADMISSAO, GERENTE_ID, CARGO) values ('Kendell', 4, 9815.44, '2024-05-13', 2, 'Quality Control Specialist');\n",
        "insert into EMPREGADO (NOME, DEPARTAMENTO_ID, SALARIO, DATA_ADMISSAO, GERENTE_ID, CARGO) values ('Edd', 3, 6005.67, '2024-04-24', 1, 'Actuary');\n",
        "insert into EMPREGADO (NOME, DEPARTAMENTO_ID, SALARIO, DATA_ADMISSAO, GERENTE_ID, CARGO) values ('Philly', 3, 7066.28, '2024-05-19', 4, 'Financial Analyst');\n",
        "insert into EMPREGADO (NOME, DEPARTAMENTO_ID, SALARIO, DATA_ADMISSAO, GERENTE_ID, CARGO) values ('Imojean', 7, 3290.86, '2024-07-31', 3, 'Quality Engineer');\n",
        "insert into EMPREGADO (NOME, DEPARTAMENTO_ID, SALARIO, DATA_ADMISSAO, GERENTE_ID, CARGO) values ('Byron', 2, 6406.76, '2024-06-24', 5, 'Quality Engineer');\n",
        "insert into EMPREGADO (NOME, DEPARTAMENTO_ID, SALARIO, DATA_ADMISSAO, GERENTE_ID, CARGO) values ('Wells', 4, 5085.25, '2024-07-16', 3, 'Geologist III');\n",
        "insert into EMPREGADO (NOME, DEPARTAMENTO_ID, SALARIO, DATA_ADMISSAO, GERENTE_ID, CARGO) values ('Marta', 4, 7199.1, '2024-01-17', 4, 'Quality Engineer');\n",
        "insert into EMPREGADO (NOME, DEPARTAMENTO_ID, SALARIO, DATA_ADMISSAO, GERENTE_ID, CARGO) values ('Terrill', 9, 7390.38, '2024-03-23', 1, 'Assistant Manager');\n",
        "insert into EMPREGADO (NOME, DEPARTAMENTO_ID, SALARIO, DATA_ADMISSAO, GERENTE_ID, CARGO) values ('Gualterio', 10, 4177.01, '2023-09-19', 2, 'Research Nurse');\n",
        "insert into EMPREGADO (NOME, DEPARTAMENTO_ID, SALARIO, DATA_ADMISSAO, GERENTE_ID, CARGO) values ('Emlynne', 10, 9705.38, '2024-09-01', 4, 'Analog Circuit Design manager');\n",
        "insert into EMPREGADO (NOME, DEPARTAMENTO_ID, SALARIO, DATA_ADMISSAO, GERENTE_ID, CARGO) values ('Kinna', 7, 8486.02, '2024-02-23', 3, 'Health Coach IV');\n",
        "insert into EMPREGADO (NOME, DEPARTAMENTO_ID, SALARIO, DATA_ADMISSAO, GERENTE_ID, CARGO) values ('Brande', 8, 8042.17, '2024-02-14', 1, 'Desktop Support Technician');\n",
        "insert into EMPREGADO (NOME, DEPARTAMENTO_ID, SALARIO, DATA_ADMISSAO, GERENTE_ID, CARGO) values ('Lek', 6, 4615.48, '2023-11-08', 5, 'Quality Control Specialist');\n",
        "insert into EMPREGADO (NOME, DEPARTAMENTO_ID, SALARIO, DATA_ADMISSAO, GERENTE_ID, CARGO) values ('Joshua', 4, 3891.71, '2024-02-22', 4, 'General Manager');\n",
        "insert into EMPREGADO (NOME, DEPARTAMENTO_ID, SALARIO, DATA_ADMISSAO, GERENTE_ID, CARGO) values ('Felicdad', 2, 3114.86, '2024-02-20', 4, 'Professor');\n",
        "insert into EMPREGADO (NOME, DEPARTAMENTO_ID, SALARIO, DATA_ADMISSAO, GERENTE_ID, CARGO) values ('Gabi', 10, 9987.39, '2023-10-27', 3, 'Chief Design Engineer');\n",
        "insert into EMPREGADO (NOME, DEPARTAMENTO_ID, SALARIO, DATA_ADMISSAO, GERENTE_ID, CARGO) values ('Arnoldo', 2, 8146.98, '2024-01-09', 5, 'Technical Writer');\n",
        "insert into EMPREGADO (NOME, DEPARTAMENTO_ID, SALARIO, DATA_ADMISSAO, GERENTE_ID, CARGO) values ('Pauli', 7, 9563.26, '2024-03-16', 5, 'VP Sales');\n",
        "insert into EMPREGADO (NOME, DEPARTAMENTO_ID, SALARIO, DATA_ADMISSAO, GERENTE_ID, CARGO) values ('Torrence', 6, 9214.48, '2024-02-03', 2, 'Community Outreach Specialist');\n",
        "insert into EMPREGADO (NOME, DEPARTAMENTO_ID, SALARIO, DATA_ADMISSAO, GERENTE_ID, CARGO) values ('Blair', 8, 2968.51, '2023-10-08', 3, 'Civil Engineer');\n",
        "insert into EMPREGADO (NOME, DEPARTAMENTO_ID, SALARIO, DATA_ADMISSAO, GERENTE_ID, CARGO) values ('Gilbert', 10, 9741.39, '2024-08-01', 2, 'Senior Financial Analyst');\n",
        "insert into EMPREGADO (NOME, DEPARTAMENTO_ID, SALARIO, DATA_ADMISSAO, GERENTE_ID, CARGO) values ('Aldis', 8, 2658.63, '2023-11-02', 2, 'Dental Hygienist');\n",
        "insert into EMPREGADO (NOME, DEPARTAMENTO_ID, SALARIO, DATA_ADMISSAO, GERENTE_ID, CARGO) values ('Cris', 10, 3962.68, '2023-09-16', 3, 'Occupational Therapist');\n",
        "insert into EMPREGADO (NOME, DEPARTAMENTO_ID, SALARIO, DATA_ADMISSAO, GERENTE_ID, CARGO) values ('Rustie', 1, 8746.67, '2024-05-29', 5, 'Account Executive');\n",
        "insert into EMPREGADO (NOME, DEPARTAMENTO_ID, SALARIO, DATA_ADMISSAO, GERENTE_ID, CARGO) values ('Garnette', 3, 6414.92, '2023-11-19', 2, 'Electrical Engineer');\n",
        "insert into EMPREGADO (NOME, DEPARTAMENTO_ID, SALARIO, DATA_ADMISSAO, GERENTE_ID, CARGO) values ('Launce', 2, 9760.89, '2023-10-22', 1, 'Human Resources Assistant I');\n",
        "insert into EMPREGADO (NOME, DEPARTAMENTO_ID, SALARIO, DATA_ADMISSAO, GERENTE_ID, CARGO) values ('Clarey', 7, 7714.33, '2024-04-29', 4, 'Product Engineer');\n",
        "insert into EMPREGADO (NOME, DEPARTAMENTO_ID, SALARIO, DATA_ADMISSAO, GERENTE_ID, CARGO) values ('Jerrie', 4, 8847.92, '2024-05-30', 3, 'Legal Assistant');\n",
        "insert into EMPREGADO (NOME, DEPARTAMENTO_ID, SALARIO, DATA_ADMISSAO, GERENTE_ID, CARGO) values ('Marinna', 1, 6749.89, '2023-10-20', 3, 'Technical Writer');\n",
        "insert into EMPREGADO (NOME, DEPARTAMENTO_ID, SALARIO, DATA_ADMISSAO, GERENTE_ID, CARGO) values ('Aaron', 6, 3989.87, '2024-05-04', 2, 'Computer Systems Analyst I');\n",
        "insert into EMPREGADO (NOME, DEPARTAMENTO_ID, SALARIO, DATA_ADMISSAO, GERENTE_ID, CARGO) values ('Myrwyn', 4, 6919.45, '2024-04-23', 1, 'Environmental Tech');\n",
        "insert into EMPREGADO (NOME, DEPARTAMENTO_ID, SALARIO, DATA_ADMISSAO, GERENTE_ID, CARGO) values ('Noel', 8, 2272.79, '2023-10-06', 3, 'Financial Analyst');\n",
        "insert into EMPREGADO (NOME, DEPARTAMENTO_ID, SALARIO, DATA_ADMISSAO, GERENTE_ID, CARGO) values ('Prince', 8, 7075.23, '2023-09-29', 2, 'Tax Accountant');\n",
        "insert into EMPREGADO (NOME, DEPARTAMENTO_ID, SALARIO, DATA_ADMISSAO, GERENTE_ID, CARGO) values ('Eldredge', 1, 8477.71, '2024-07-30', 1, 'Cost Accountant');\n",
        "insert into EMPREGADO (NOME, DEPARTAMENTO_ID, SALARIO, DATA_ADMISSAO, GERENTE_ID, CARGO) values ('Niven', 1, 8452.87, '2024-01-10', 1, 'Marketing Assistant');\n",
        "insert into EMPREGADO (NOME, DEPARTAMENTO_ID, SALARIO, DATA_ADMISSAO, GERENTE_ID, CARGO) values ('Karia', 6, 7446.22, '2024-02-24', 1, 'Quality Control Specialist');\n",
        "insert into EMPREGADO (NOME, DEPARTAMENTO_ID, SALARIO, DATA_ADMISSAO, GERENTE_ID, CARGO) values ('Gabrila', 4, 3137.44, '2024-06-13', 4, 'Internal Auditor');\n",
        "insert into EMPREGADO (NOME, DEPARTAMENTO_ID, SALARIO, DATA_ADMISSAO, GERENTE_ID, CARGO) values ('Walker', 6, 6748.5, '2023-11-18', 3, 'Recruiter');\n",
        "insert into EMPREGADO (NOME, DEPARTAMENTO_ID, SALARIO, DATA_ADMISSAO, GERENTE_ID, CARGO) values ('Caron', 8, 3186.44, '2023-12-24', 4, 'Administrative Officer');\n",
        "insert into EMPREGADO (NOME, DEPARTAMENTO_ID, SALARIO, DATA_ADMISSAO, GERENTE_ID, CARGO) values ('Carine', 2, 6473.69, '2023-11-20', 1, 'Actuary');\n",
        "insert into EMPREGADO (NOME, DEPARTAMENTO_ID, SALARIO, DATA_ADMISSAO, GERENTE_ID, CARGO) values ('Clay', 9, 5282.62, '2024-08-08', 3, 'Payment Adjustment Coordinator');\n",
        "insert into EMPREGADO (NOME, DEPARTAMENTO_ID, SALARIO, DATA_ADMISSAO, GERENTE_ID, CARGO) values ('Callida', 7, 5867.59, '2023-12-09', 3, 'Health Coach II');\n",
        "insert into EMPREGADO (NOME, DEPARTAMENTO_ID, SALARIO, DATA_ADMISSAO, GERENTE_ID, CARGO) values ('Zsa zsa', 5, 9232.5, '2024-06-06', 1, 'Project Manager');\n",
        "insert into EMPREGADO (NOME, DEPARTAMENTO_ID, SALARIO, DATA_ADMISSAO, GERENTE_ID, CARGO) values ('Dayna', 1, 2584.81, '2024-06-17', 2, 'General Manager');\n",
        "insert into EMPREGADO (NOME, DEPARTAMENTO_ID, SALARIO, DATA_ADMISSAO, GERENTE_ID, CARGO) values ('Denny', 5, 4919.36, '2024-04-13', 4, 'Chemical Engineer');\n",
        "insert into EMPREGADO (NOME, DEPARTAMENTO_ID, SALARIO, DATA_ADMISSAO, GERENTE_ID, CARGO) values ('Gayel', 3, 3329.25, '2024-06-09', 2, 'Compensation Analyst');\n",
        "insert into EMPREGADO (NOME, DEPARTAMENTO_ID, SALARIO, DATA_ADMISSAO, GERENTE_ID, CARGO) values ('Kris', 7, 6133.78, '2024-04-13', 3, 'Recruiter');\n"
      ],
      "metadata": {
        "id": "AMxa2LiXIdhe"
      },
      "execution_count": null,
      "outputs": []
    },
    {
      "cell_type": "markdown",
      "source": [
        "# Listar empregados de um departamento específico"
      ],
      "metadata": {
        "id": "6LqGzp2-O4Fc"
      }
    },
    {
      "cell_type": "code",
      "source": [
        "SELECT * FROM EMPREGADO\n",
        "  WHERE DEPARTAMENTO_ID\n",
        "    IN(SELECT DEPARTAMENTO_ID\n",
        "        FROM DEPARTAMENTO\n",
        "          WHERE NOME = 'Marketing')"
      ],
      "metadata": {
        "id": "RHxMikBuQEg7"
      },
      "execution_count": null,
      "outputs": []
    },
    {
      "cell_type": "markdown",
      "source": [
        "## Criação de uma view chamada View_Marketing_Empregados que contenha todos os empregados do departamento 'Marketing'"
      ],
      "metadata": {
        "id": "l6_k-WDvPD-X"
      }
    },
    {
      "cell_type": "code",
      "source": [
        "CREATE VIEW View_Marketing_Empregados AS\n",
        "  SELECT * FROM EMPREGADO\n",
        "    WHERE DEPARTAMENTO_ID\n",
        "      IN(SELECT DEPARTAMENTO_ID\n",
        "          FROM DEPARTAMENTO\n",
        "            WHERE NOME = 'Marketing')\n",
        "\n",
        "\n",
        "SELECT * FROM View_Marketing_Empregados"
      ],
      "metadata": {
        "id": "JoF06WKaPJFZ"
      },
      "execution_count": null,
      "outputs": []
    },
    {
      "cell_type": "markdown",
      "source": [
        "# Média de salário por departamento"
      ],
      "metadata": {
        "id": "4yKUGYc4PWo0"
      }
    },
    {
      "cell_type": "code",
      "source": [
        "SELECT\n",
        "    d.NOME AS NOME_DEPARTAMENTO,\n",
        "    AVG(e.SALARIO) AS MEDIA_SALARIO\n",
        "FROM\n",
        "    EMPREGADO e\n",
        "JOIN\n",
        "    DEPARTAMENTO d ON e.DEPARTAMENTO_ID = d.DEPARTAMENTO_ID\n",
        "GROUP BY\n",
        "    d.NOME;"
      ],
      "metadata": {
        "id": "Kq7LMEe9SSkP"
      },
      "execution_count": null,
      "outputs": []
    },
    {
      "cell_type": "markdown",
      "source": [
        "# Empregados com salários acima da média"
      ],
      "metadata": {
        "id": "6C68pXGNPfWz"
      }
    },
    {
      "cell_type": "code",
      "source": [
        "SELECT\n",
        "    e.NOME,\n",
        "    e.SALARIO,\n",
        "    e.DEPARTAMENTO_ID\n",
        "FROM\n",
        "    EMPREGADO e\n",
        "WHERE\n",
        "    e.SALARIO > (SELECT AVG(e2.SALARIO)\n",
        "                 FROM EMPREGADO e2\n",
        "                 WHERE e2.DEPARTAMENTO_ID = e.DEPARTAMENTO_ID);"
      ],
      "metadata": {
        "id": "KcfLqFYdWlMS"
      },
      "execution_count": null,
      "outputs": []
    },
    {
      "cell_type": "markdown",
      "source": [
        "# Departamentos com mais de X empregados"
      ],
      "metadata": {
        "id": "hDVXjzY3PlPx"
      }
    },
    {
      "cell_type": "code",
      "source": [
        "SELECT\n",
        "    d.NOME AS NOME_DEPARTAMENTO,\n",
        "    COUNT(e.EMPREGADO_ID) AS NUMERO_DE_EMPREGADOS\n",
        "FROM\n",
        "    DEPARTAMENTO d\n",
        "JOIN\n",
        "    EMPREGADO e ON d.DEPARTAMENTO_ID = e.DEPARTAMENTO_ID\n",
        "GROUP BY\n",
        "    d.NOME\n",
        "HAVING\n",
        "    COUNT(e.EMPREGADO_ID) > 5;"
      ],
      "metadata": {
        "id": "hSVPW-PsjDKo"
      },
      "execution_count": null,
      "outputs": []
    },
    {
      "cell_type": "markdown",
      "source": [
        "# Listando empregados e seus Gerentes"
      ],
      "metadata": {
        "id": "6NV3qVrxP0zn"
      }
    },
    {
      "cell_type": "code",
      "source": [
        "select * from GERENTE\n",
        "\n",
        "SELECT\n",
        "    e.NOME AS NOME_EMPREGADO,\n",
        "    g.NOME AS NOME_GERENTE\n",
        "FROM\n",
        "    EMPREGADO e\n",
        "LEFT JOIN\n",
        "    EMPREGADO g ON e.GERENTE_ID = g.EMPREGADO_ID;"
      ],
      "metadata": {
        "id": "H0wn24TPkFmA"
      },
      "execution_count": null,
      "outputs": []
    },
    {
      "cell_type": "markdown",
      "source": [
        "# Departamentos sem empregados"
      ],
      "metadata": {
        "id": "hXS_etn_P7E8"
      }
    },
    {
      "cell_type": "code",
      "source": [
        "SELECT\n",
        "    d.NOME AS NOME_DEPARTAMENTO\n",
        "FROM\n",
        "    DEPARTAMENTO d\n",
        "LEFT JOIN\n",
        "    EMPREGADO e ON d.DEPARTAMENTO_ID = e.DEPARTAMENTO_ID\n",
        "WHERE\n",
        "    e.EMPREGADO_ID IS NULL;"
      ],
      "metadata": {
        "id": "YsMmTGtqoHC_"
      },
      "execution_count": null,
      "outputs": []
    },
    {
      "cell_type": "markdown",
      "source": [
        "# Salários acima de um valor específico"
      ],
      "metadata": {
        "id": "2NG19y2HQBPk"
      }
    },
    {
      "cell_type": "code",
      "source": [
        "SELECT NOME, SALARIO, DEPARTAMENTO_ID FROM EMPREGADO\n",
        "  WHERE SALARIO > 5000;"
      ],
      "metadata": {
        "id": "07RrJWYUpwq-"
      },
      "execution_count": null,
      "outputs": []
    },
    {
      "cell_type": "markdown",
      "source": [
        "# Empregados por data de admissão"
      ],
      "metadata": {
        "id": "VV0LnGOtQHmO"
      }
    },
    {
      "cell_type": "code",
      "source": [
        "SELECT NOME, DATA_ADMISSAO FROM EMPREGADO\n",
        "  WHERE DATA_ADMISSAO >= DATE_SUB(CURDATE(), INTERVAL 6 MONTH);"
      ],
      "metadata": {
        "id": "kXcmjNWx9Esf"
      },
      "execution_count": null,
      "outputs": []
    },
    {
      "cell_type": "markdown",
      "source": [
        "# Agrupar empregados por cargo"
      ],
      "metadata": {
        "id": "4YcwiJ0PQPEs"
      }
    },
    {
      "cell_type": "code",
      "source": [
        "SELECT CARGO, COUNT(EMPREGADO_ID) AS NUMERO_DE_EMPREGADOS\n",
        "  FROM EMPREGADO\n",
        "    GROUP BY CARGO;"
      ],
      "metadata": {
        "id": "sM-FvdhL95xr"
      },
      "execution_count": null,
      "outputs": []
    },
    {
      "cell_type": "markdown",
      "source": [
        "# Empregados de um departamento com condição de salário"
      ],
      "metadata": {
        "id": "pCp1lXL_QbQC"
      }
    },
    {
      "cell_type": "code",
      "source": [
        "SELECT e.NOME, e.SALARIO, e.DEPARTAMENTO_ID\n",
        "FROM EMPREGADO e\n",
        "JOIN DEPARTAMENTO d ON e.DEPARTAMENTO_ID = d.DEPARTAMENTO_ID\n",
        "WHERE d.NOME = 'Financeiro'\n",
        "  AND e.SALARIO > (SELECT AVG(e2.SALARIO)\n",
        "                   FROM EMPREGADO e2\n",
        "                   JOIN DEPARTAMENTO d2 ON e2.DEPARTAMENTO_ID = d2.DEPARTAMENTO_ID\n",
        "                   WHERE d2.NOME = 'Financeiro');"
      ],
      "metadata": {
        "id": "2eciUnR6-s9B"
      },
      "execution_count": null,
      "outputs": []
    },
    {
      "cell_type": "markdown",
      "source": [
        "#Salário médio por departamento"
      ],
      "metadata": {
        "id": "iJgNNYRKS5O5"
      }
    },
    {
      "cell_type": "code",
      "source": [
        "SELECT\n",
        "    DEPARTAMENTO.nome AS departamento_nome,\n",
        "    AVG(EMPREGADO.salario) AS media_salarios\n",
        "FROM\n",
        "    DEPARTAMENTO\n",
        "LEFT JOIN\n",
        "    EMPREGADO ON DEPARTAMENTO.numdepto = EMPREGADO.numdepto\n",
        "GROUP BY\n",
        "    DEPARTAMENTO.nome;"
      ],
      "metadata": {
        "id": "xTXDtzJHS7zX"
      },
      "execution_count": null,
      "outputs": []
    },
    {
      "cell_type": "markdown",
      "source": [
        "# Empregados e seus departamentos"
      ],
      "metadata": {
        "id": "2hbY8AoPRPpF"
      }
    },
    {
      "cell_type": "code",
      "source": [
        "SELECT\n",
        "    EMPREGADO.nome AS empregado_nome,\n",
        "    DEPARTAMENTO.nome AS departamento_nome\n",
        "FROM\n",
        "    EMPREGADO\n",
        "LEFT JOIN\n",
        "    DEPARTAMENTO ON EMPREGADO.numdepto = DEPARTAMENTO.numdepto\n",
        "UNION\n",
        "SELECT\n",
        "    EMPREGADO.nome AS empregado_nome,\n",
        "    DEPARTAMENTO.nome AS departamento_nome\n",
        "FROM\n",
        "    DEPARTAMENTO\n",
        "LEFT JOIN\n",
        "    EMPREGADO ON EMPREGADO.numdepto = DEPARTAMENTO.numdepto;"
      ],
      "metadata": {
        "id": "IfQhEQhjRTwx"
      },
      "execution_count": null,
      "outputs": []
    },
    {
      "cell_type": "markdown",
      "source": [
        "# Empregados sem Departamentos"
      ],
      "metadata": {
        "id": "D6BQsgXDRYlf"
      }
    },
    {
      "cell_type": "code",
      "source": [
        "SELECT\n",
        "    EMPREGADO.nome AS empregado_nome\n",
        "FROM\n",
        "    EMPREGADO\n",
        "LEFT JOIN\n",
        "    DEPARTAMENTO ON EMPREGADO.numdepto = DEPARTAMENTO.numdepto\n",
        "WHERE\n",
        "    DEPARTAMENTO.numdepto IS NULL;"
      ],
      "metadata": {
        "id": "Y2RBFuTnRfG0"
      },
      "execution_count": null,
      "outputs": []
    },
    {
      "cell_type": "markdown",
      "source": [
        "# Projetos sem Empregados"
      ],
      "metadata": {
        "id": "oCa7SeT2Rg-w"
      }
    },
    {
      "cell_type": "code",
      "source": [
        "SELECT\n",
        "    PROJETO.nome AS projeto_nome\n",
        "FROM\n",
        "    PROJETO\n",
        "LEFT JOIN\n",
        "    TRABALHA_EM ON PROJETO.codprojeto = TRABALHA_EM.codprojeto\n",
        "WHERE\n",
        "    TRABALHA_EM.codprojeto IS NULL;"
      ],
      "metadata": {
        "id": "FMbkCyguRmlE"
      },
      "execution_count": null,
      "outputs": []
    },
    {
      "cell_type": "markdown",
      "source": [
        "# Empregados com suas habilidades ordenadas"
      ],
      "metadata": {
        "id": "IZPSSqNbRny6"
      }
    },
    {
      "cell_type": "code",
      "source": [
        "SELECT\n",
        "    EMPREGADO.nome AS empregado_nome,\n",
        "    HABILIDADE.descricao AS habilidade_empregado\n",
        "FROM\n",
        "    EMPREGADO\n",
        "INNER JOIN\n",
        "    EMPREGADO_HABILIDADE ON EMPREGADO.matricula = EMPREGADO_HABILIDADE.matricula\n",
        "INNER JOIN\n",
        "    HABILIDADE ON EMPREGADO_HABILIDADE.codhabilidade = HABILIDADE.codhabilidade\n",
        "ORDER BY\n",
        "    EMPREGADO.nome ASC,\n",
        "    HABILIDADE.descricao ASC;"
      ],
      "metadata": {
        "id": "vJd6eykERu6-"
      },
      "execution_count": null,
      "outputs": []
    },
    {
      "cell_type": "markdown",
      "source": [
        "# Empregados com mais de uma habilidade"
      ],
      "metadata": {
        "id": "Xws6w6TSSbQP"
      }
    },
    {
      "cell_type": "code",
      "source": [
        "SELECT\n",
        "    EMPREGADO.nome AS empregado_nome\n",
        "FROM\n",
        "    EMPREGADO\n",
        "INNER JOIN\n",
        "    EMPREGADO_HABILIDADE ON EMPREGADO.matricula = EMPREGADO_HABILIDADE.matricula\n",
        "GROUP BY\n",
        "    EMPREGADO.nome\n",
        "HAVING\n",
        "    COUNT(EMPREGADO_HABILIDADE.codhabilidade) > 1;"
      ],
      "metadata": {
        "id": "eV58LdfRSiKK"
      },
      "execution_count": null,
      "outputs": []
    },
    {
      "cell_type": "markdown",
      "source": [
        "# Departamentos e número de empregados"
      ],
      "metadata": {
        "id": "V4QHmEpARv7v"
      }
    },
    {
      "cell_type": "code",
      "source": [
        "SELECT\n",
        "    DEPARTAMENTO.nome AS departamento_nome,\n",
        "    COUNT(EMPREGADO.numdepto) AS numero_empregados\n",
        "FROM\n",
        "    DEPARTAMENTO\n",
        "LEFT JOIN\n",
        "    EMPREGADO ON DEPARTAMENTO.numdepto = EMPREGADO.numdepto\n",
        "GROUP BY\n",
        "    DEPARTAMENTO.nome;"
      ],
      "metadata": {
        "id": "i1YPryfbR7qS"
      },
      "execution_count": null,
      "outputs": []
    },
    {
      "cell_type": "markdown",
      "source": [
        "# Empregados em projetos atuais"
      ],
      "metadata": {
        "id": "EtfYxK7fR83i"
      }
    },
    {
      "cell_type": "code",
      "source": [
        "SELECT\n",
        "    EMPREGADO.nome AS empregado_nome,\n",
        "    PROJETO.nome AS projeto_nome,\n",
        "    TRABALHA_EM.data_inicio,\n",
        "    TRABALHA_EM.data_fim\n",
        "FROM\n",
        "    EMPREGADO\n",
        "INNER JOIN\n",
        "    TRABALHA_EM ON EMPREGADO.matricula = TRABALHA_EM.matricula\n",
        "INNER JOIN\n",
        "    PROJETO ON TRABALHA_EM.codprojeto = PROJETO.codprojeto\n",
        "WHERE\n",
        "    TRABALHA_EM.data_fim > CURRENT_DATE;"
      ],
      "metadata": {
        "id": "7-_Y3WrwSJ_R"
      },
      "execution_count": null,
      "outputs": []
    },
    {
      "cell_type": "markdown",
      "source": [
        "# Projetos e suas durações"
      ],
      "metadata": {
        "id": "zrfHnwtLSLWj"
      }
    },
    {
      "cell_type": "code",
      "source": [
        "SELECT\n",
        "    PROJETO.nome AS projeto_nome,\n",
        "    DATEDIFF(TRABALHA_EM.data_fim, TRABALHA_EM.data_inicio) AS duracao_em_dias\n",
        "FROM\n",
        "    PROJETO\n",
        "INNER JOIN\n",
        "    TRABALHA_EM ON PROJETO.codprojeto = TRABALHA_EM.codprojeto;"
      ],
      "metadata": {
        "id": "8nvFOhViSQ4L"
      },
      "execution_count": null,
      "outputs": []
    },
    {
      "cell_type": "markdown",
      "source": [
        "# Projetos com data de início mais recente"
      ],
      "metadata": {
        "id": "zGCM0feqSSOn"
      }
    },
    {
      "cell_type": "code",
      "source": [
        "SELECT\n",
        "  p.nome AS Nome_Projeto,\n",
        "MAX(t.data_inicio) AS Data_mais_recente\n",
        "FROM\n",
        "  PROJETO p\n",
        "INNER JOIN\n",
        "  TRABALHA_EM t ON p.codprojeto = t.codprojeto\n",
        "GROUP BY\n",
        "  p.nome\n",
        "ORDER BY\n",
        "  Data_mais_recente DESC;"
      ],
      "metadata": {
        "id": "yj5iIuWHTNy9"
      },
      "execution_count": null,
      "outputs": []
    },
    {
      "cell_type": "markdown",
      "source": [],
      "metadata": {
        "id": "OEUsRLn1TPSG"
      }
    }
  ]
}